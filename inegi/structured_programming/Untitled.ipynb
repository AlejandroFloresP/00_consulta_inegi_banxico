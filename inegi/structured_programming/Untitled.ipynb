{
 "cells": [
  {
   "cell_type": "code",
   "execution_count": 17,
   "id": "d9c835f3",
   "metadata": {},
   "outputs": [
    {
     "name": "stdout",
     "output_type": "stream",
     "text": [
      "Bienvenidos al programa para la consulta de indicadores del SAT\n",
      "--------------------------------------------------\n",
      "¿Qué te gustaria hacer hoy?\n",
      "1. Actualizar datos de los indicadores\n",
      "2. Actualizar metadata de indicador\n",
      "3. Ver lista de indicadores\n",
      "4. Añadir indicador\n",
      "5. Buscar indicador en la lista\n",
      "6. Eliminar indicador de la lista\n",
      "1\n"
     ]
    }
   ],
   "source": [
    "%run '~/work/00_consulta_inegi_banxico/inegi/structured_programming/01_functions/main.py'"
   ]
  },
  {
   "cell_type": "code",
   "execution_count": 58,
   "id": "8ef9e0e8",
   "metadata": {},
   "outputs": [],
   "source": [
    "def modulos(modulo):\n",
    "    try:\n",
    "        import modulo\n",
    "        print('Modulo instalado y listo para usar')\n",
    "    except ImportError:\n",
    "    # Que hacer si el módulo no se puede importar\n",
    "        print('Modulo {}, no esta instalado, lo instalamos a continuación'.format(\n",
    "        modulo))\n",
    "        !pip install modulo"
   ]
  },
  {
   "cell_type": "code",
   "execution_count": 59,
   "id": "408f56e8",
   "metadata": {},
   "outputs": [
    {
     "name": "stdout",
     "output_type": "stream",
     "text": [
      "Modulo instalado y listo para usar\n"
     ]
    }
   ],
   "source": [
    "modulos('flask')"
   ]
  }
 ],
 "metadata": {
  "kernelspec": {
   "display_name": "Python 3 (ipykernel)",
   "language": "python",
   "name": "python3"
  },
  "language_info": {
   "codemirror_mode": {
    "name": "ipython",
    "version": 3
   },
   "file_extension": ".py",
   "mimetype": "text/x-python",
   "name": "python",
   "nbconvert_exporter": "python",
   "pygments_lexer": "ipython3",
   "version": "3.9.5"
  }
 },
 "nbformat": 4,
 "nbformat_minor": 5
}
